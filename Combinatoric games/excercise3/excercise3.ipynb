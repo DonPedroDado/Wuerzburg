{
 "cells": [
  {
   "cell_type": "code",
   "execution_count": 2,
   "metadata": {},
   "outputs": [],
   "source": [
    "import pandas as pd"
   ]
  },
  {
   "cell_type": "code",
   "execution_count": 4,
   "metadata": {},
   "outputs": [],
   "source": [
    "df=pd.read_csv(\"excersise3.csv\")"
   ]
  },
  {
   "cell_type": "code",
   "execution_count": 6,
   "metadata": {},
   "outputs": [
    {
     "data": {
      "text/html": [
       "<div>\n",
       "<style scoped>\n",
       "    .dataframe tbody tr th:only-of-type {\n",
       "        vertical-align: middle;\n",
       "    }\n",
       "\n",
       "    .dataframe tbody tr th {\n",
       "        vertical-align: top;\n",
       "    }\n",
       "\n",
       "    .dataframe thead th {\n",
       "        text-align: right;\n",
       "    }\n",
       "</style>\n",
       "<table border=\"1\" class=\"dataframe\">\n",
       "  <thead>\n",
       "    <tr style=\"text-align: right;\">\n",
       "      <th></th>\n",
       "      <th>Position</th>\n",
       "      <th>Strategy</th>\n",
       "    </tr>\n",
       "  </thead>\n",
       "  <tbody>\n",
       "    <tr>\n",
       "      <th>0</th>\n",
       "      <td>H6</td>\n",
       "      <td>loss</td>\n",
       "    </tr>\n",
       "    <tr>\n",
       "      <th>1</th>\n",
       "      <td>H5</td>\n",
       "      <td>H6</td>\n",
       "    </tr>\n",
       "    <tr>\n",
       "      <th>2</th>\n",
       "      <td>H4</td>\n",
       "      <td>loss</td>\n",
       "    </tr>\n",
       "    <tr>\n",
       "      <th>3</th>\n",
       "      <td>H3</td>\n",
       "      <td>H4</td>\n",
       "    </tr>\n",
       "    <tr>\n",
       "      <th>4</th>\n",
       "      <td>H2</td>\n",
       "      <td>loss</td>\n",
       "    </tr>\n",
       "    <tr>\n",
       "      <th>...</th>\n",
       "      <td>...</td>\n",
       "      <td>...</td>\n",
       "    </tr>\n",
       "    <tr>\n",
       "      <th>57</th>\n",
       "      <td>A5</td>\n",
       "      <td>B6</td>\n",
       "    </tr>\n",
       "    <tr>\n",
       "      <th>58</th>\n",
       "      <td>A4</td>\n",
       "      <td>B4</td>\n",
       "    </tr>\n",
       "    <tr>\n",
       "      <th>59</th>\n",
       "      <td>A3</td>\n",
       "      <td>B4</td>\n",
       "    </tr>\n",
       "    <tr>\n",
       "      <th>60</th>\n",
       "      <td>A2</td>\n",
       "      <td>B2</td>\n",
       "    </tr>\n",
       "    <tr>\n",
       "      <th>61</th>\n",
       "      <td>A1</td>\n",
       "      <td>B2</td>\n",
       "    </tr>\n",
       "  </tbody>\n",
       "</table>\n",
       "<p>62 rows × 2 columns</p>\n",
       "</div>"
      ],
      "text/plain": [
       "   Position Strategy\n",
       "0        H6     loss\n",
       "1        H5       H6\n",
       "2        H4     loss\n",
       "3        H3       H4\n",
       "4        H2     loss\n",
       "..      ...      ...\n",
       "57       A5       B6\n",
       "58       A4       B4\n",
       "59       A3       B4\n",
       "60       A2       B2\n",
       "61       A1       B2\n",
       "\n",
       "[62 rows x 2 columns]"
      ]
     },
     "execution_count": 6,
     "metadata": {},
     "output_type": "execute_result"
    }
   ],
   "source": [
    "df"
   ]
  },
  {
   "cell_type": "code",
   "execution_count": 7,
   "metadata": {},
   "outputs": [],
   "source": [
    "positions_strategies = {\n",
    "    \"H6\": \"loss\",\n",
    "    \"H5\": \"H6\",\n",
    "    \"H4\": \"loss\",\n",
    "    \"H3\": \"H4\",\n",
    "    \"H2\": \"loss\",\n",
    "    \"H1\": \"H2\",\n",
    "    \"G8\": \"H8\",\n",
    "    \"G7\": \"H8\",\n",
    "    \"G6\": \"H6\",\n",
    "    \"G5\": \"H6\",\n",
    "    \"G4\": \"H4\",\n",
    "    \"G3\": \"H4\",\n",
    "    \"G2\": \"H2\",\n",
    "    \"G1\": \"H2\",\n",
    "    \"F8\": \"loss\",\n",
    "    \"F7\": \"F8\",\n",
    "    \"F6\": \"loss\",\n",
    "    \"F5\": \"F6\",\n",
    "    \"F4\": \"loss\",\n",
    "    \"F3\": \"F4\",\n",
    "    \"F2\": \"loss\",\n",
    "    \"F1\": \"F2\",\n",
    "    \"E8\": \"F8\",\n",
    "    \"E7\": \"F8\",\n",
    "    \"E6\": \"F6\",\n",
    "    \"E5\": \"F6\",\n",
    "    \"E4\": \"F4\",\n",
    "    \"E3\": \"F4\",\n",
    "    \"E2\": \"F2\",\n",
    "    \"E1\": \"F2\",\n",
    "    \"D8\": \"loss\",\n",
    "    \"D7\": \"D8\",\n",
    "    \"D6\": \"loss\",\n",
    "    \"D5\": \"D6\",\n",
    "    \"D4\": \"loss\",\n",
    "    \"D3\": \"D4\",\n",
    "    \"D2\": \"loss\",\n",
    "    \"D1\": \"D2\",\n",
    "    \"C8\": \"D8\",\n",
    "    \"C7\": \"D8\",\n",
    "    \"C6\": \"D6\",\n",
    "    \"C5\": \"D6\",\n",
    "    \"C4\": \"D4\",\n",
    "    \"C3\": \"D4\",\n",
    "    \"C2\": \"D2\",\n",
    "    \"C1\": \"D2\",\n",
    "    \"B8\": \"loss\",\n",
    "    \"B7\": \"B8\",\n",
    "    \"B6\": \"loss\",\n",
    "    \"B5\": \"B6\",\n",
    "    \"B4\": \"loss\",\n",
    "    \"B3\": \"B4\",\n",
    "    \"B2\": \"loss\",\n",
    "    \"B1\": \"B2\",\n",
    "    \"A8\": \"B8\",\n",
    "    \"A7\": \"B8\",\n",
    "    \"A6\": \"B6\",\n",
    "    \"A5\": \"B6\",\n",
    "    \"A4\": \"B4\",\n",
    "    \"A3\": \"B4\",\n",
    "    \"A2\": \"B2\",\n",
    "    \"A1\": \"B2\"\n",
    "}\n"
   ]
  },
  {
   "cell_type": "code",
   "execution_count": 8,
   "metadata": {},
   "outputs": [],
   "source": [
    "strategyinput=input()"
   ]
  },
  {
   "cell_type": "code",
   "execution_count": 9,
   "metadata": {},
   "outputs": [
    {
     "data": {
      "text/plain": [
       "'B2'"
      ]
     },
     "execution_count": 9,
     "metadata": {},
     "output_type": "execute_result"
    }
   ],
   "source": [
    "positions_strategies[strategyinput]"
   ]
  },
  {
   "cell_type": "code",
   "execution_count": 10,
   "metadata": {},
   "outputs": [
    {
     "name": "stdout",
     "output_type": "stream",
     "text": [
      "move to B2 from A1\n"
     ]
    }
   ],
   "source": [
    "print(f\"move to {positions_strategies[strategyinput]} from {strategyinput}\")"
   ]
  },
  {
   "cell_type": "code",
   "execution_count": null,
   "metadata": {},
   "outputs": [],
   "source": []
  }
 ],
 "metadata": {
  "kernelspec": {
   "display_name": "Python 3",
   "language": "python",
   "name": "python3"
  },
  "language_info": {
   "codemirror_mode": {
    "name": "ipython",
    "version": 3
   },
   "file_extension": ".py",
   "mimetype": "text/x-python",
   "name": "python",
   "nbconvert_exporter": "python",
   "pygments_lexer": "ipython3",
   "version": "3.11.5"
  },
  "orig_nbformat": 4
 },
 "nbformat": 4,
 "nbformat_minor": 2
}
